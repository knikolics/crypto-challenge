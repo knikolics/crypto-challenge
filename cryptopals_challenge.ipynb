{
 "cells": [
  {
   "cell_type": "code",
   "execution_count": 21,
   "id": "41cf3fde-7f76-4693-a19d-afcb925c34b6",
   "metadata": {},
   "outputs": [],
   "source": [
    "import sys\n",
    "import glob\n",
    "import base64\n",
    "\n",
    "from collections import Counter\n",
    "from typing import List, Tuple"
   ]
  },
  {
   "cell_type": "markdown",
   "id": "1bfdc338-3572-4587-a5f2-6dc01aa1c897",
   "metadata": {},
   "source": [
    "# 1. encode hex string to base64"
   ]
  },
  {
   "cell_type": "code",
   "execution_count": 2,
   "id": "5f749a31-1098-4e9b-9bc1-15fcd68b2524",
   "metadata": {},
   "outputs": [
    {
     "name": "stdout",
     "output_type": "stream",
     "text": [
      "<class 'bytes'>\n"
     ]
    }
   ],
   "source": [
    "my_str = \"49276d206b696c6c696e6720796f757220627261696e206c696b65206120706f69736f6e6f7573206d757368726f6f6d\"\n",
    "my_str_as_bytes = str.encode(my_str)\n",
    "print(type(my_str_as_bytes)) # ensure it is byte representation"
   ]
  },
  {
   "cell_type": "raw",
   "id": "341a37ca-34c5-4b86-ac27-41044e5190d7",
   "metadata": {},
   "source": [
    "target\n",
    "SSdtIGtpbGxpbmcgeW91ciBicmFpbiBsaWtlIGEgcG9pc29ub3VzIG11c2hyb29t"
   ]
  },
  {
   "cell_type": "code",
   "execution_count": 7,
   "id": "4a073c9c-1d06-4758-851f-80a89dc679a1",
   "metadata": {},
   "outputs": [
    {
     "name": "stdout",
     "output_type": "stream",
     "text": [
      "in base64: SSdtIGtpbGxpbmcgeW91ciBicmFpbiBsaWtlIGEgcG9pc29ub3VzIG11c2hyb29t\n"
     ]
    }
   ],
   "source": [
    "from base64 import b64encode, b64decode\n",
    "\n",
    "# hex -> base64\n",
    "b64 = b64encode(bytes.fromhex(my_str)).decode()\n",
    "print('in base64:', b64)"
   ]
  },
  {
   "cell_type": "markdown",
   "id": "c6ab2bae-cd48-4b9e-9675-1edc913f4ba6",
   "metadata": {},
   "source": [
    "# 2. when fed 1c0111001f010100061a024b53535009181c after hex-decoding XOR'ed against 686974207468652062756c6c277320657965"
   ]
  },
  {
   "cell_type": "code",
   "execution_count": 19,
   "id": "efc5e48a-22c7-4962-8c1d-3fd1d3812130",
   "metadata": {},
   "outputs": [
    {
     "name": "stdout",
     "output_type": "stream",
     "text": [
      "746865206b696420646f6e277420706c6179\n"
     ]
    }
   ],
   "source": [
    "from operator import xor\n",
    "\n",
    "\n",
    "hexval1 = '1c0111001f010100061a024b53535009181c'\n",
    "hexval2 = '686974207468652062756c6c277320657965'\n",
    "\n",
    "bin_value1 = bin(int(hexval1, 16))[2:]\n",
    "bin_value2 = bin(int(hexval2, 16))[2:]\n",
    "\n",
    "desired_length = len(bin_value1) if len(bin_value1) > len(bin_value2) else len(bin_value2)\n",
    "bin_value1 = bin_value1.zfill(desired_length)\n",
    "bin_value2 = bin_value2.zfill(desired_length)\n",
    "#step 4\n",
    "result = [int(bit1) ^ int(bit2) for bit1,bit2 in zip(bin_value1,bin_value2)]\n",
    "string_result = \"\".join([str(bits) for bits in result])\n",
    "#step 5\n",
    "final_output = hex(int(string_result, 2))[2:]\n",
    "print(final_output)"
   ]
  },
  {
   "cell_type": "markdown",
   "id": "03f09a7f-f363-4ecf-8d13-f23559d48bdc",
   "metadata": {},
   "source": [
    "# 3. decipher hex encoded string: 1b37373331363f78151b7f2b783431333d78397828372d363c78373e783a393b3736"
   ]
  },
  {
   "cell_type": "code",
   "execution_count": 23,
   "id": "fe7f9ce4-6b10-4375-9638-037c7cd927c4",
   "metadata": {},
   "outputs": [],
   "source": [
    "def single_byte_xor(text: bytes, key: int) -> bytes:\n",
    "    \"\"\"Given a plain text `text` as bytes and an encryption key `key` as a byte\n",
    "    in range [0, 256) the function encrypts the text by performing\n",
    "    XOR of all the bytes and the `key` and returns the resultant.\n",
    "    \"\"\"\n",
    "    return bytes([b ^ key for b in text])"
   ]
  },
  {
   "cell_type": "code",
   "execution_count": 29,
   "id": "89e5d700-2dcd-4e9b-ad70-32e382b5bc64",
   "metadata": {},
   "outputs": [],
   "source": [
    "occurance_english = {\n",
    "    'a': 8.2389258,    'b': 1.5051398,    'c': 2.8065007,    'd': 4.2904556,\n",
    "    'e': 12.813865,    'f': 2.2476217,    'g': 2.0327458,    'h': 6.1476691,\n",
    "    'i': 6.1476691,    'j': 0.1543474,    'k': 0.7787989,    'l': 4.0604477,\n",
    "    'm': 2.4271893,    'n': 6.8084376,    'o': 7.5731132,    'p': 1.9459884,\n",
    "    'q': 0.0958366,    'r': 6.0397268,    's': 6.3827211,    't': 9.1357551,\n",
    "    'u': 2.7822893,    'v': 0.9866131,    'w': 2.3807842,    'x': 0.1513210,\n",
    "    'y': 1.9913847,    'z': 0.0746517\n",
    "}\n",
    "\n",
    "dist_english = list(occurance_english.values())\n",
    "\n",
    "def compute_fitting_quotient(text: bytes, plot=False, title=None) -> float:\n",
    "    \"\"\"Given the stream of bytes `text` the function computes the fitting\n",
    "    quotient of the letter frequency distribution for `text` with the\n",
    "    letter frequency distribution of the English language.\n",
    "\n",
    "    The function returns the average of absolute difference between the\n",
    "    frequencies (in percentage) of letters in `text` and the corresponding\n",
    "    letter in the English Language.\n",
    "    \"\"\"\n",
    "    counter = Counter(text)\n",
    "    dist_text = [\n",
    "        (counter.get(ord(ch), 0) * 100) / len(text)\n",
    "        for ch in occurance_english\n",
    "    ]\n",
    "\n",
    "    if plot:\n",
    "        plot_linears(dist_english, dist_text, title=title)\n",
    "\n",
    "    return sum([abs(a - b) for a, b in zip(dist_english, dist_text)]) / len(dist_text)"
   ]
  },
  {
   "cell_type": "code",
   "execution_count": 41,
   "id": "94fefc6c-cb3c-4474-9514-9ce732d19142",
   "metadata": {},
   "outputs": [],
   "source": [
    "def decipher(text: bytes, plot=False) -> Tuple[bytes, int]:\n",
    "    \"\"\"The function deciphers an encrypted text using Single Byte XOR and returns\n",
    "    the original plain text message and the encryption key.\n",
    "    \"\"\"\n",
    "    original_text, encryption_key, min_fq = None, None, None\n",
    "    for k in range(256):\n",
    "        # we generate the plain text using key `k`\n",
    "        _text = single_byte_xor(text, k)\n",
    "        \n",
    "        # we compute the fitting quotient for this generated plain text\n",
    "        _fq = compute_fitting_quotient(_text, plot=plot, title=f\"Key: {k}\")\n",
    "        \n",
    "        # if the generated fitting quotient is lesser than the min_fq we've seen\n",
    "        # then update the key and plain_text.\n",
    "        if min_fq is None or _fq < min_fq:\n",
    "            encryption_key, original_text, min_fq = k, _text, _fq\n",
    "\n",
    "    # return the plain_text and the key with the minimum fitting quotient.\n",
    "    return original_text, encryption_key, min_fq"
   ]
  },
  {
   "cell_type": "code",
   "execution_count": 32,
   "id": "37bb00b8-d732-4108-9101-adb8c78ba052",
   "metadata": {},
   "outputs": [
    {
     "data": {
      "text/plain": [
       "b\"Cooking MC's like a pound of bacon\""
      ]
     },
     "execution_count": 32,
     "metadata": {},
     "output_type": "execute_result"
    }
   ],
   "source": [
    "hex_str = '1b37373331363f78151b7f2b783431333d78397828372d363c78373e783a393b3736'\n",
    "\n",
    "decipher(bytes.fromhex(hex_str))[0]"
   ]
  },
  {
   "cell_type": "code",
   "execution_count": 38,
   "id": "81c5554d-055b-4aca-bbfb-a7792a5d892b",
   "metadata": {},
   "outputs": [
    {
     "data": {
      "text/plain": [
       "b'\\x15\\x1e\\t\\x1f'"
      ]
     },
     "execution_count": 38,
     "metadata": {},
     "output_type": "execute_result"
    }
   ],
   "source": [
    "single_byte_xor(str.encode('nerd'),123)"
   ]
  },
  {
   "cell_type": "markdown",
   "id": "988ffe1c-55f8-4ec5-bc1e-860bd1ebd1ef",
   "metadata": {},
   "source": [
    "# 4. Detect single-character XOR"
   ]
  },
  {
   "cell_type": "code",
   "execution_count": 42,
   "id": "50e2a770-747c-4437-b197-e67a45df53a4",
   "metadata": {},
   "outputs": [],
   "source": [
    "with open('4.txt') as f:\n",
    "    lines = f.readlines()\n",
    "    \n",
    "lines = [line.rstrip('\\n') for line in lines]"
   ]
  },
  {
   "cell_type": "code",
   "execution_count": 50,
   "id": "27ae50c4-07ff-4954-93bc-dfced974cf0f",
   "metadata": {},
   "outputs": [
    {
     "name": "stdout",
     "output_type": "stream",
     "text": [
      "                                        encoded string  \\\n",
      "170  7b5a4215415d544115415d5015455447414c155c46155f...   \n",
      "\n",
      "                          original text  encrypt key  min freq  \n",
      "170  b'Now that the party is jumping\\n'           53  2.296475  \n"
     ]
    }
   ],
   "source": [
    "import pandas as pd\n",
    "import numpy as np\n",
    "\n",
    "res = pd.DataFrame()\n",
    "\n",
    "for i, line in enumerate(lines):\n",
    "    df = pd.DataFrame(index=[i], columns=['encoded string','original text','encrypt key', 'min freq'])\n",
    "    original_text, encryption_key, min_fq = decipher(bytes.fromhex(line))\n",
    "    df['encoded string'] = line\n",
    "    df['original text'] = original_text\n",
    "    df['encrypt key'] = encryption_key\n",
    "    df['min freq'] = min_fq\n",
    "    res = pd.concat([res,df], axis=0)\n",
    "    \n",
    "best_match = res['min freq'].min()\n",
    "\n",
    "print(res[res['min freq']==best_match])"
   ]
  },
  {
   "cell_type": "markdown",
   "id": "7c4ac200-87ef-4a32-8704-f81f7709975f",
   "metadata": {},
   "source": [
    "# 5. Implement repeating-key XOR"
   ]
  },
  {
   "cell_type": "code",
   "execution_count": 1,
   "id": "7555bcdc-4cac-43f4-ae5c-18dd43203d30",
   "metadata": {},
   "outputs": [
    {
     "name": "stdout",
     "output_type": "stream",
     "text": [
      "b'0b3637272a2b2e63622c2e69692a23693a2a3c6324202d623d63343c2a26226324272765272a282b2f20690a652e2c652a3124333a653e2b2027630c692b20283165286326302e27282f'\n"
     ]
    }
   ],
   "source": [
    "from binascii import hexlify\n",
    "\n",
    "def repeating_key_xor(key, string):\n",
    "    # i is the position within the key\n",
    "    i = 0\n",
    "    arr = []\n",
    "    for ch in string:\n",
    "        # Convert the key char and the plaintext char to\n",
    "        # integers using `ord`, XOR them and add them to\n",
    "        # the array.\n",
    "        arr.append(ord(ch) ^ ord(key[i]))\n",
    "        \n",
    "        # Manage the \"repeating\" part of the repeating key.\n",
    "        # If the end of the key is reached start back at the\n",
    "        # beginning.\n",
    "        i += 1\n",
    "        if (i == len(key)):\n",
    "            i = 0\n",
    "\n",
    "    # Finally convert our array to a byte array (which\n",
    "    # hexlify likes), then convert to hex and return it.\n",
    "    return hexlify(bytearray(arr))\n",
    "\n",
    "string = \"Burning 'em, if you ain't quick and nimble I go crazy when I hear a cymbal\"\n",
    "key = 'ICE'\n",
    "\n",
    "encrypted = repeating_key_xor(key, string)\n",
    "print(encrypted)"
   ]
  },
  {
   "cell_type": "code",
   "execution_count": null,
   "id": "488eae1a-7b6a-4b47-ab72-f70e0ce89d82",
   "metadata": {},
   "outputs": [],
   "source": []
  }
 ],
 "metadata": {
  "kernelspec": {
   "display_name": "Python 3 (ipykernel)",
   "language": "python",
   "name": "python3"
  },
  "language_info": {
   "codemirror_mode": {
    "name": "ipython",
    "version": 3
   },
   "file_extension": ".py",
   "mimetype": "text/x-python",
   "name": "python",
   "nbconvert_exporter": "python",
   "pygments_lexer": "ipython3",
   "version": "3.7.0"
  }
 },
 "nbformat": 4,
 "nbformat_minor": 5
}
